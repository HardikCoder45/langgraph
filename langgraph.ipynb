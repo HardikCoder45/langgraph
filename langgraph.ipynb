{
  "cells": [
    {
      "cell_type": "markdown",
      "metadata": {
        "id": "view-in-github",
        "colab_type": "text"
      },
      "source": [
        "<a href=\"https://colab.research.google.com/github/HardikCoder45/langgraph/blob/main/langgraph.ipynb\" target=\"_parent\"><img src=\"https://colab.research.google.com/assets/colab-badge.svg\" alt=\"Open In Colab\"/></a>"
      ]
    },
    {
      "cell_type": "code",
      "source": [
        "!pip install langgraph langsmith"
      ],
      "metadata": {
        "colab": {
          "base_uri": "https://localhost:8080/"
        },
        "id": "BcLi8GkiiTqM",
        "outputId": "67732338-816f-465d-bbab-a799cbb3cce1"
      },
      "execution_count": 2,
      "outputs": [
        {
          "output_type": "stream",
          "name": "stdout",
          "text": [
            "Requirement already satisfied: langgraph in /usr/local/lib/python3.10/dist-packages (0.2.5)\n",
            "Requirement already satisfied: langsmith in /usr/local/lib/python3.10/dist-packages (0.1.100)\n",
            "Requirement already satisfied: langchain-core<0.3,>=0.2.27 in /usr/local/lib/python3.10/dist-packages (from langgraph) (0.2.33)\n",
            "Requirement already satisfied: langgraph-checkpoint<2.0.0,>=1.0.2 in /usr/local/lib/python3.10/dist-packages (from langgraph) (1.0.3)\n",
            "Requirement already satisfied: httpx<1,>=0.23.0 in /usr/local/lib/python3.10/dist-packages (from langsmith) (0.27.0)\n",
            "Requirement already satisfied: orjson<4.0.0,>=3.9.14 in /usr/local/lib/python3.10/dist-packages (from langsmith) (3.10.7)\n",
            "Requirement already satisfied: pydantic<3,>=1 in /usr/local/lib/python3.10/dist-packages (from langsmith) (2.8.2)\n",
            "Requirement already satisfied: requests<3,>=2 in /usr/local/lib/python3.10/dist-packages (from langsmith) (2.32.3)\n",
            "Requirement already satisfied: anyio in /usr/local/lib/python3.10/dist-packages (from httpx<1,>=0.23.0->langsmith) (3.7.1)\n",
            "Requirement already satisfied: certifi in /usr/local/lib/python3.10/dist-packages (from httpx<1,>=0.23.0->langsmith) (2024.7.4)\n",
            "Requirement already satisfied: httpcore==1.* in /usr/local/lib/python3.10/dist-packages (from httpx<1,>=0.23.0->langsmith) (1.0.5)\n",
            "Requirement already satisfied: idna in /usr/local/lib/python3.10/dist-packages (from httpx<1,>=0.23.0->langsmith) (3.7)\n",
            "Requirement already satisfied: sniffio in /usr/local/lib/python3.10/dist-packages (from httpx<1,>=0.23.0->langsmith) (1.3.1)\n",
            "Requirement already satisfied: h11<0.15,>=0.13 in /usr/local/lib/python3.10/dist-packages (from httpcore==1.*->httpx<1,>=0.23.0->langsmith) (0.14.0)\n",
            "Requirement already satisfied: PyYAML>=5.3 in /usr/local/lib/python3.10/dist-packages (from langchain-core<0.3,>=0.2.27->langgraph) (6.0.2)\n",
            "Requirement already satisfied: jsonpatch<2.0,>=1.33 in /usr/local/lib/python3.10/dist-packages (from langchain-core<0.3,>=0.2.27->langgraph) (1.33)\n",
            "Requirement already satisfied: packaging<25,>=23.2 in /usr/local/lib/python3.10/dist-packages (from langchain-core<0.3,>=0.2.27->langgraph) (24.1)\n",
            "Requirement already satisfied: tenacity!=8.4.0,<9.0.0,>=8.1.0 in /usr/local/lib/python3.10/dist-packages (from langchain-core<0.3,>=0.2.27->langgraph) (8.5.0)\n",
            "Requirement already satisfied: typing-extensions>=4.7 in /usr/local/lib/python3.10/dist-packages (from langchain-core<0.3,>=0.2.27->langgraph) (4.12.2)\n",
            "Requirement already satisfied: annotated-types>=0.4.0 in /usr/local/lib/python3.10/dist-packages (from pydantic<3,>=1->langsmith) (0.7.0)\n",
            "Requirement already satisfied: pydantic-core==2.20.1 in /usr/local/lib/python3.10/dist-packages (from pydantic<3,>=1->langsmith) (2.20.1)\n",
            "Requirement already satisfied: charset-normalizer<4,>=2 in /usr/local/lib/python3.10/dist-packages (from requests<3,>=2->langsmith) (3.3.2)\n",
            "Requirement already satisfied: urllib3<3,>=1.21.1 in /usr/local/lib/python3.10/dist-packages (from requests<3,>=2->langsmith) (2.0.7)\n",
            "Requirement already satisfied: jsonpointer>=1.9 in /usr/local/lib/python3.10/dist-packages (from jsonpatch<2.0,>=1.33->langchain-core<0.3,>=0.2.27->langgraph) (3.0.0)\n",
            "Requirement already satisfied: exceptiongroup in /usr/local/lib/python3.10/dist-packages (from anyio->httpx<1,>=0.23.0->langsmith) (1.2.2)\n"
          ]
        }
      ]
    },
    {
      "cell_type": "code",
      "source": [
        "!pip install langchain langchain_groq"
      ],
      "metadata": {
        "colab": {
          "base_uri": "https://localhost:8080/"
        },
        "id": "IyU8XodEidY7",
        "outputId": "09461baf-6a3a-423c-c93f-e5d83552bf35"
      },
      "execution_count": 3,
      "outputs": [
        {
          "output_type": "stream",
          "name": "stdout",
          "text": [
            "Requirement already satisfied: langchain in /usr/local/lib/python3.10/dist-packages (0.2.14)\n",
            "Requirement already satisfied: langchain_groq in /usr/local/lib/python3.10/dist-packages (0.1.9)\n",
            "Requirement already satisfied: PyYAML>=5.3 in /usr/local/lib/python3.10/dist-packages (from langchain) (6.0.2)\n",
            "Requirement already satisfied: SQLAlchemy<3,>=1.4 in /usr/local/lib/python3.10/dist-packages (from langchain) (2.0.32)\n",
            "Requirement already satisfied: aiohttp<4.0.0,>=3.8.3 in /usr/local/lib/python3.10/dist-packages (from langchain) (3.10.3)\n",
            "Requirement already satisfied: async-timeout<5.0.0,>=4.0.0 in /usr/local/lib/python3.10/dist-packages (from langchain) (4.0.3)\n",
            "Requirement already satisfied: langchain-core<0.3.0,>=0.2.32 in /usr/local/lib/python3.10/dist-packages (from langchain) (0.2.33)\n",
            "Requirement already satisfied: langchain-text-splitters<0.3.0,>=0.2.0 in /usr/local/lib/python3.10/dist-packages (from langchain) (0.2.2)\n",
            "Requirement already satisfied: langsmith<0.2.0,>=0.1.17 in /usr/local/lib/python3.10/dist-packages (from langchain) (0.1.100)\n",
            "Requirement already satisfied: numpy<2,>=1 in /usr/local/lib/python3.10/dist-packages (from langchain) (1.26.4)\n",
            "Requirement already satisfied: pydantic<3,>=1 in /usr/local/lib/python3.10/dist-packages (from langchain) (2.8.2)\n",
            "Requirement already satisfied: requests<3,>=2 in /usr/local/lib/python3.10/dist-packages (from langchain) (2.32.3)\n",
            "Requirement already satisfied: tenacity!=8.4.0,<9.0.0,>=8.1.0 in /usr/local/lib/python3.10/dist-packages (from langchain) (8.5.0)\n",
            "Requirement already satisfied: groq<1,>=0.4.1 in /usr/local/lib/python3.10/dist-packages (from langchain_groq) (0.9.0)\n",
            "Requirement already satisfied: aiohappyeyeballs>=2.3.0 in /usr/local/lib/python3.10/dist-packages (from aiohttp<4.0.0,>=3.8.3->langchain) (2.3.5)\n",
            "Requirement already satisfied: aiosignal>=1.1.2 in /usr/local/lib/python3.10/dist-packages (from aiohttp<4.0.0,>=3.8.3->langchain) (1.3.1)\n",
            "Requirement already satisfied: attrs>=17.3.0 in /usr/local/lib/python3.10/dist-packages (from aiohttp<4.0.0,>=3.8.3->langchain) (24.2.0)\n",
            "Requirement already satisfied: frozenlist>=1.1.1 in /usr/local/lib/python3.10/dist-packages (from aiohttp<4.0.0,>=3.8.3->langchain) (1.4.1)\n",
            "Requirement already satisfied: multidict<7.0,>=4.5 in /usr/local/lib/python3.10/dist-packages (from aiohttp<4.0.0,>=3.8.3->langchain) (6.0.5)\n",
            "Requirement already satisfied: yarl<2.0,>=1.0 in /usr/local/lib/python3.10/dist-packages (from aiohttp<4.0.0,>=3.8.3->langchain) (1.9.4)\n",
            "Requirement already satisfied: anyio<5,>=3.5.0 in /usr/local/lib/python3.10/dist-packages (from groq<1,>=0.4.1->langchain_groq) (3.7.1)\n",
            "Requirement already satisfied: distro<2,>=1.7.0 in /usr/lib/python3/dist-packages (from groq<1,>=0.4.1->langchain_groq) (1.7.0)\n",
            "Requirement already satisfied: httpx<1,>=0.23.0 in /usr/local/lib/python3.10/dist-packages (from groq<1,>=0.4.1->langchain_groq) (0.27.0)\n",
            "Requirement already satisfied: sniffio in /usr/local/lib/python3.10/dist-packages (from groq<1,>=0.4.1->langchain_groq) (1.3.1)\n",
            "Requirement already satisfied: typing-extensions<5,>=4.7 in /usr/local/lib/python3.10/dist-packages (from groq<1,>=0.4.1->langchain_groq) (4.12.2)\n",
            "Requirement already satisfied: jsonpatch<2.0,>=1.33 in /usr/local/lib/python3.10/dist-packages (from langchain-core<0.3.0,>=0.2.32->langchain) (1.33)\n",
            "Requirement already satisfied: packaging<25,>=23.2 in /usr/local/lib/python3.10/dist-packages (from langchain-core<0.3.0,>=0.2.32->langchain) (24.1)\n",
            "Requirement already satisfied: orjson<4.0.0,>=3.9.14 in /usr/local/lib/python3.10/dist-packages (from langsmith<0.2.0,>=0.1.17->langchain) (3.10.7)\n",
            "Requirement already satisfied: annotated-types>=0.4.0 in /usr/local/lib/python3.10/dist-packages (from pydantic<3,>=1->langchain) (0.7.0)\n",
            "Requirement already satisfied: pydantic-core==2.20.1 in /usr/local/lib/python3.10/dist-packages (from pydantic<3,>=1->langchain) (2.20.1)\n",
            "Requirement already satisfied: charset-normalizer<4,>=2 in /usr/local/lib/python3.10/dist-packages (from requests<3,>=2->langchain) (3.3.2)\n",
            "Requirement already satisfied: idna<4,>=2.5 in /usr/local/lib/python3.10/dist-packages (from requests<3,>=2->langchain) (3.7)\n",
            "Requirement already satisfied: urllib3<3,>=1.21.1 in /usr/local/lib/python3.10/dist-packages (from requests<3,>=2->langchain) (2.0.7)\n",
            "Requirement already satisfied: certifi>=2017.4.17 in /usr/local/lib/python3.10/dist-packages (from requests<3,>=2->langchain) (2024.7.4)\n",
            "Requirement already satisfied: greenlet!=0.4.17 in /usr/local/lib/python3.10/dist-packages (from SQLAlchemy<3,>=1.4->langchain) (3.0.3)\n",
            "Requirement already satisfied: exceptiongroup in /usr/local/lib/python3.10/dist-packages (from anyio<5,>=3.5.0->groq<1,>=0.4.1->langchain_groq) (1.2.2)\n",
            "Requirement already satisfied: httpcore==1.* in /usr/local/lib/python3.10/dist-packages (from httpx<1,>=0.23.0->groq<1,>=0.4.1->langchain_groq) (1.0.5)\n",
            "Requirement already satisfied: h11<0.15,>=0.13 in /usr/local/lib/python3.10/dist-packages (from httpcore==1.*->httpx<1,>=0.23.0->groq<1,>=0.4.1->langchain_groq) (0.14.0)\n",
            "Requirement already satisfied: jsonpointer>=1.9 in /usr/local/lib/python3.10/dist-packages (from jsonpatch<2.0,>=1.33->langchain-core<0.3.0,>=0.2.32->langchain) (3.0.0)\n"
          ]
        }
      ]
    },
    {
      "cell_type": "code",
      "source": [
        "from google.colab import userdata\n",
        "lang_smith_api = userdata.get(\"LANGSMITH_API_KEY\")\n",
        "Groq_api = userdata.get(\"GROQ_API_KEY\")\n"
      ],
      "metadata": {
        "id": "s7jqJvK4kDfE"
      },
      "execution_count": 4,
      "outputs": []
    },
    {
      "cell_type": "code",
      "source": [
        "import os\n",
        "os.environ[\"LANGCHAIN_API_KEY\"] = lang_smith_api\n",
        "os.environ[\"LANGCHAIN_TRACING_V2\"] = \"true\"\n",
        "os.environ[\"LANGCHAIN_PROJECT\"] = \"langchain_demo\""
      ],
      "metadata": {
        "id": "lFl1rWxRkaHP"
      },
      "execution_count": 5,
      "outputs": []
    },
    {
      "cell_type": "code",
      "source": [
        "from langchain_groq import ChatGroq\n",
        "llm = ChatGroq(groq_api_key=Groq_api,model_name=\"llama-3.1-8b-instant\")"
      ],
      "metadata": {
        "id": "GUkecW7Mk-Yw"
      },
      "execution_count": 6,
      "outputs": []
    },
    {
      "cell_type": "code",
      "source": [
        "from typing import Annotated\n",
        "from typing_extensions import TypedDict\n",
        "from langgraph.graph import START,END,StateGraph\n",
        "from langgraph.graph.message import add_messages"
      ],
      "metadata": {
        "id": "BYmxQdnrlZDv"
      },
      "execution_count": 7,
      "outputs": []
    },
    {
      "cell_type": "code",
      "source": [
        "class State(TypedDict):\n",
        "  # Messages have the type \"list\". The `add_messages` function\n",
        "    # in the annotation defines how this state key should be updated\n",
        "    # (in this case, it appends messages to the list, rather than overwriting them)\n",
        "  messages:Annotated[list,add_messages]\n",
        "\n",
        "graph_builder=StateGraph(State)\n"
      ],
      "metadata": {
        "id": "bwPr6FxTnW2g"
      },
      "execution_count": 8,
      "outputs": []
    },
    {
      "cell_type": "code",
      "source": [
        "def Chatbot(state:State):\n",
        "  return {\"messages\":llm.invoke(state['messages'])}"
      ],
      "metadata": {
        "id": "PtsObHJponrL"
      },
      "execution_count": 9,
      "outputs": []
    },
    {
      "cell_type": "code",
      "source": [
        "graph_builder.add_node(\"chatbot\",Chatbot)"
      ],
      "metadata": {
        "id": "iM_UwhRHo6VX"
      },
      "execution_count": 10,
      "outputs": []
    },
    {
      "cell_type": "code",
      "source": [
        "graph_builder.add_edge(START,\"chatbot\")\n",
        "graph_builder.add_edge( \"chatbot\",END)"
      ],
      "metadata": {
        "id": "rp7HNUYjpSgB"
      },
      "execution_count": 11,
      "outputs": []
    },
    {
      "cell_type": "code",
      "source": [
        "graph=graph_builder.compile()"
      ],
      "metadata": {
        "id": "wbMxLk3cpsbH"
      },
      "execution_count": 12,
      "outputs": []
    },
    {
      "cell_type": "code",
      "source": [
        "while True:\n",
        "  user_input=input(\"User: \")\n",
        "  if user_input.lower() in [\"quit\",\"q\"]:\n",
        "    print(\"Good Bye\")\n",
        "    break\n",
        "  for event in graph.stream({'messages':(\"user\",user_input)}):\n",
        "    print(event.values())\n",
        "    for value in event.values():\n",
        "      print(value['messages'])\n",
        "      print(\"Assistant:\",value[\"messages\"].content)"
      ],
      "metadata": {
        "colab": {
          "base_uri": "https://localhost:8080/"
        },
        "id": "mutKfWjWqFz7",
        "outputId": "d2bc91bc-6b61-4f1c-c69b-a7a7b440df56"
      },
      "execution_count": null,
      "outputs": [
        {
          "output_type": "stream",
          "name": "stdout",
          "text": [
            "User: who is anilmultiservice search on web about them in delhi\n",
            "dict_values([{'messages': AIMessage(content='I couldn\\'t find any information on a person named \"Anil Multiservice\" in Delhi or elsewhere. It\\'s possible that Anil Multiservice is a business or a company, but I couldn\\'t find any specific information on it.\\n\\nHowever, I can suggest some possible ways to search for information on Anil Multiservice:\\n\\n1. Google search: You can try searching for \"Anil Multiservice Delhi\" or \"Anil Multiservice India\" to see if any relevant results come up.\\n2. Online directories: You can try searching online directories like Justdial, Sulekha, or Google Maps to see if Anil Multiservice has a listing.\\n3. Social media: You can try searching for Anil Multiservice on social media platforms like Facebook, Twitter, or LinkedIn to see if they have an official presence.\\n\\nIf you could provide more context or information about Anil Multiservice, I may be able to help you better.\\n\\nFor example, what type of business or service do they provide? Are they a local business or a national company? Any additional information you can provide may help me narrow down the search.\\n\\nHere are some possible search results for \"Anil Multiservice\" in Delhi:\\n\\n- Anil Multiservice is a company that provides security services in Delhi. They have a website and a listing on online directories like Justdial.\\n- Anil Multiservice is a local business in Delhi that provides services like electrical and plumbing repairs. They have a social media presence and a listing on online directories.\\n- Anil Multiservice is a company that provides IT services in Delhi. They have a website and a listing on online directories.\\n\\nPlease note that these are just hypothetical examples, and I couldn\\'t find any actual information on Anil Multiservice in Delhi.', response_metadata={'token_usage': {'completion_tokens': 372, 'prompt_tokens': 50, 'total_tokens': 422, 'completion_time': 0.496, 'prompt_time': 0.010020785, 'queue_time': 0.004487145, 'total_time': 0.506020785}, 'model_name': 'llama-3.1-8b-instant', 'system_fingerprint': 'fp_9cb648b966', 'finish_reason': 'stop', 'logprobs': None}, id='run-4e16a748-5f8c-4016-9a80-1b466ba17f3f-0', usage_metadata={'input_tokens': 50, 'output_tokens': 372, 'total_tokens': 422})}])\n",
            "content='I couldn\\'t find any information on a person named \"Anil Multiservice\" in Delhi or elsewhere. It\\'s possible that Anil Multiservice is a business or a company, but I couldn\\'t find any specific information on it.\\n\\nHowever, I can suggest some possible ways to search for information on Anil Multiservice:\\n\\n1. Google search: You can try searching for \"Anil Multiservice Delhi\" or \"Anil Multiservice India\" to see if any relevant results come up.\\n2. Online directories: You can try searching online directories like Justdial, Sulekha, or Google Maps to see if Anil Multiservice has a listing.\\n3. Social media: You can try searching for Anil Multiservice on social media platforms like Facebook, Twitter, or LinkedIn to see if they have an official presence.\\n\\nIf you could provide more context or information about Anil Multiservice, I may be able to help you better.\\n\\nFor example, what type of business or service do they provide? Are they a local business or a national company? Any additional information you can provide may help me narrow down the search.\\n\\nHere are some possible search results for \"Anil Multiservice\" in Delhi:\\n\\n- Anil Multiservice is a company that provides security services in Delhi. They have a website and a listing on online directories like Justdial.\\n- Anil Multiservice is a local business in Delhi that provides services like electrical and plumbing repairs. They have a social media presence and a listing on online directories.\\n- Anil Multiservice is a company that provides IT services in Delhi. They have a website and a listing on online directories.\\n\\nPlease note that these are just hypothetical examples, and I couldn\\'t find any actual information on Anil Multiservice in Delhi.' response_metadata={'token_usage': {'completion_tokens': 372, 'prompt_tokens': 50, 'total_tokens': 422, 'completion_time': 0.496, 'prompt_time': 0.010020785, 'queue_time': 0.004487145, 'total_time': 0.506020785}, 'model_name': 'llama-3.1-8b-instant', 'system_fingerprint': 'fp_9cb648b966', 'finish_reason': 'stop', 'logprobs': None} id='run-4e16a748-5f8c-4016-9a80-1b466ba17f3f-0' usage_metadata={'input_tokens': 50, 'output_tokens': 372, 'total_tokens': 422}\n",
            "Assistant: I couldn't find any information on a person named \"Anil Multiservice\" in Delhi or elsewhere. It's possible that Anil Multiservice is a business or a company, but I couldn't find any specific information on it.\n",
            "\n",
            "However, I can suggest some possible ways to search for information on Anil Multiservice:\n",
            "\n",
            "1. Google search: You can try searching for \"Anil Multiservice Delhi\" or \"Anil Multiservice India\" to see if any relevant results come up.\n",
            "2. Online directories: You can try searching online directories like Justdial, Sulekha, or Google Maps to see if Anil Multiservice has a listing.\n",
            "3. Social media: You can try searching for Anil Multiservice on social media platforms like Facebook, Twitter, or LinkedIn to see if they have an official presence.\n",
            "\n",
            "If you could provide more context or information about Anil Multiservice, I may be able to help you better.\n",
            "\n",
            "For example, what type of business or service do they provide? Are they a local business or a national company? Any additional information you can provide may help me narrow down the search.\n",
            "\n",
            "Here are some possible search results for \"Anil Multiservice\" in Delhi:\n",
            "\n",
            "- Anil Multiservice is a company that provides security services in Delhi. They have a website and a listing on online directories like Justdial.\n",
            "- Anil Multiservice is a local business in Delhi that provides services like electrical and plumbing repairs. They have a social media presence and a listing on online directories.\n",
            "- Anil Multiservice is a company that provides IT services in Delhi. They have a website and a listing on online directories.\n",
            "\n",
            "Please note that these are just hypothetical examples, and I couldn't find any actual information on Anil Multiservice in Delhi.\n",
            "User: what about lohum\n",
            "dict_values([{'messages': AIMessage(content='I couldn\\'t find any information about \"lohum.\" It\\'s possible that it might be a misspelling or a term from a specific context that I\\'m not aware of. Could you provide more context or information about what \"lohum\" refers to?', response_metadata={'token_usage': {'completion_tokens': 53, 'prompt_tokens': 39, 'total_tokens': 92, 'completion_time': 0.070666667, 'prompt_time': 0.00741206, 'queue_time': 0.006590749999999999, 'total_time': 0.078078727}, 'model_name': 'llama-3.1-8b-instant', 'system_fingerprint': 'fp_f66ccb39ec', 'finish_reason': 'stop', 'logprobs': None}, id='run-bdbea41a-315d-4e67-a3ca-017794fb7b60-0', usage_metadata={'input_tokens': 39, 'output_tokens': 53, 'total_tokens': 92})}])\n",
            "content='I couldn\\'t find any information about \"lohum.\" It\\'s possible that it might be a misspelling or a term from a specific context that I\\'m not aware of. Could you provide more context or information about what \"lohum\" refers to?' response_metadata={'token_usage': {'completion_tokens': 53, 'prompt_tokens': 39, 'total_tokens': 92, 'completion_time': 0.070666667, 'prompt_time': 0.00741206, 'queue_time': 0.006590749999999999, 'total_time': 0.078078727}, 'model_name': 'llama-3.1-8b-instant', 'system_fingerprint': 'fp_f66ccb39ec', 'finish_reason': 'stop', 'logprobs': None} id='run-bdbea41a-315d-4e67-a3ca-017794fb7b60-0' usage_metadata={'input_tokens': 39, 'output_tokens': 53, 'total_tokens': 92}\n",
            "Assistant: I couldn't find any information about \"lohum.\" It's possible that it might be a misspelling or a term from a specific context that I'm not aware of. Could you provide more context or information about what \"lohum\" refers to?\n",
            "User: who are you\n",
            "dict_values([{'messages': AIMessage(content=\"I'm an artificial intelligence model known as a Large Language Model (LLM). I'm a computer program designed to understand and generate human-like text. I'm here to assist and communicate with you in a helpful and informative way.\\n\\nI don't have a personal identity or emotions like humans do, but I'm designed to be friendly, neutral, and respectful in my interactions. My purpose is to provide information, answer questions, and engage in conversations to the best of my abilities based on my training data.\\n\\nI can help with a wide range of topics, from science and history to entertainment and culture. I can also assist with tasks like language translation, text summarization, and even creative writing.\\n\\nWhat would you like to talk about or ask me?\", response_metadata={'token_usage': {'completion_tokens': 151, 'prompt_tokens': 38, 'total_tokens': 189, 'completion_time': 0.201333333, 'prompt_time': 0.01253457, 'queue_time': 0.0022291900000000007, 'total_time': 0.213867903}, 'model_name': 'llama-3.1-8b-instant', 'system_fingerprint': 'fp_f66ccb39ec', 'finish_reason': 'stop', 'logprobs': None}, id='run-0cef00a0-50dd-4251-a27c-bf56b383ac8b-0', usage_metadata={'input_tokens': 38, 'output_tokens': 151, 'total_tokens': 189})}])\n",
            "content=\"I'm an artificial intelligence model known as a Large Language Model (LLM). I'm a computer program designed to understand and generate human-like text. I'm here to assist and communicate with you in a helpful and informative way.\\n\\nI don't have a personal identity or emotions like humans do, but I'm designed to be friendly, neutral, and respectful in my interactions. My purpose is to provide information, answer questions, and engage in conversations to the best of my abilities based on my training data.\\n\\nI can help with a wide range of topics, from science and history to entertainment and culture. I can also assist with tasks like language translation, text summarization, and even creative writing.\\n\\nWhat would you like to talk about or ask me?\" response_metadata={'token_usage': {'completion_tokens': 151, 'prompt_tokens': 38, 'total_tokens': 189, 'completion_time': 0.201333333, 'prompt_time': 0.01253457, 'queue_time': 0.0022291900000000007, 'total_time': 0.213867903}, 'model_name': 'llama-3.1-8b-instant', 'system_fingerprint': 'fp_f66ccb39ec', 'finish_reason': 'stop', 'logprobs': None} id='run-0cef00a0-50dd-4251-a27c-bf56b383ac8b-0' usage_metadata={'input_tokens': 38, 'output_tokens': 151, 'total_tokens': 189}\n",
            "Assistant: I'm an artificial intelligence model known as a Large Language Model (LLM). I'm a computer program designed to understand and generate human-like text. I'm here to assist and communicate with you in a helpful and informative way.\n",
            "\n",
            "I don't have a personal identity or emotions like humans do, but I'm designed to be friendly, neutral, and respectful in my interactions. My purpose is to provide information, answer questions, and engage in conversations to the best of my abilities based on my training data.\n",
            "\n",
            "I can help with a wide range of topics, from science and history to entertainment and culture. I can also assist with tasks like language translation, text summarization, and even creative writing.\n",
            "\n",
            "What would you like to talk about or ask me?\n",
            "User: i am hardik\n",
            "dict_values([{'messages': AIMessage(content='Nice to meet you, Hardik. How can I assist you today?', response_metadata={'token_usage': {'completion_tokens': 16, 'prompt_tokens': 39, 'total_tokens': 55, 'completion_time': 0.021333333, 'prompt_time': 0.00743986, 'queue_time': 0.0070404989999999995, 'total_time': 0.028773193}, 'model_name': 'llama-3.1-8b-instant', 'system_fingerprint': 'fp_f66ccb39ec', 'finish_reason': 'stop', 'logprobs': None}, id='run-a3ae661d-6f9a-4653-a9d3-943998b1cf29-0', usage_metadata={'input_tokens': 39, 'output_tokens': 16, 'total_tokens': 55})}])\n",
            "content='Nice to meet you, Hardik. How can I assist you today?' response_metadata={'token_usage': {'completion_tokens': 16, 'prompt_tokens': 39, 'total_tokens': 55, 'completion_time': 0.021333333, 'prompt_time': 0.00743986, 'queue_time': 0.0070404989999999995, 'total_time': 0.028773193}, 'model_name': 'llama-3.1-8b-instant', 'system_fingerprint': 'fp_f66ccb39ec', 'finish_reason': 'stop', 'logprobs': None} id='run-a3ae661d-6f9a-4653-a9d3-943998b1cf29-0' usage_metadata={'input_tokens': 39, 'output_tokens': 16, 'total_tokens': 55}\n",
            "Assistant: Nice to meet you, Hardik. How can I assist you today?\n",
            "User: can you search google for anything\n",
            "dict_values([{'messages': AIMessage(content=\"I'm not capable of directly searching Google or accessing external websites. However, I can help you find information on a topic or answer a question based on my training data, which is a massive knowledge base that I was trained on.\\n\\nIf you have a specific question or topic in mind, feel free to ask me and I'll do my best to help. I can also try to provide you with relevant information, definitions, and explanations.\\n\\nAdditionally, if you need to search for something specific on Google, I can try to provide you with a summary of the search result or offer alternative sources of information that might be helpful.\\n\\nFor example, if you want to know the latest news on a particular topic, I can try to summarize the latest information from reputable sources. Or if you're looking for a definition or explanation of a specific term, I can try to provide you with a clear and concise answer.\\n\\nSo go ahead and ask me anything, and I'll do my best to help!\", response_metadata={'token_usage': {'completion_tokens': 198, 'prompt_tokens': 41, 'total_tokens': 239, 'completion_time': 0.264, 'prompt_time': 0.00785024, 'queue_time': 0.005372739, 'total_time': 0.27185024}, 'model_name': 'llama-3.1-8b-instant', 'system_fingerprint': 'fp_9cb648b966', 'finish_reason': 'stop', 'logprobs': None}, id='run-077d00c6-954f-4ac6-9ab7-941424ee8d53-0', usage_metadata={'input_tokens': 41, 'output_tokens': 198, 'total_tokens': 239})}])\n",
            "content=\"I'm not capable of directly searching Google or accessing external websites. However, I can help you find information on a topic or answer a question based on my training data, which is a massive knowledge base that I was trained on.\\n\\nIf you have a specific question or topic in mind, feel free to ask me and I'll do my best to help. I can also try to provide you with relevant information, definitions, and explanations.\\n\\nAdditionally, if you need to search for something specific on Google, I can try to provide you with a summary of the search result or offer alternative sources of information that might be helpful.\\n\\nFor example, if you want to know the latest news on a particular topic, I can try to summarize the latest information from reputable sources. Or if you're looking for a definition or explanation of a specific term, I can try to provide you with a clear and concise answer.\\n\\nSo go ahead and ask me anything, and I'll do my best to help!\" response_metadata={'token_usage': {'completion_tokens': 198, 'prompt_tokens': 41, 'total_tokens': 239, 'completion_time': 0.264, 'prompt_time': 0.00785024, 'queue_time': 0.005372739, 'total_time': 0.27185024}, 'model_name': 'llama-3.1-8b-instant', 'system_fingerprint': 'fp_9cb648b966', 'finish_reason': 'stop', 'logprobs': None} id='run-077d00c6-954f-4ac6-9ab7-941424ee8d53-0' usage_metadata={'input_tokens': 41, 'output_tokens': 198, 'total_tokens': 239}\n",
            "Assistant: I'm not capable of directly searching Google or accessing external websites. However, I can help you find information on a topic or answer a question based on my training data, which is a massive knowledge base that I was trained on.\n",
            "\n",
            "If you have a specific question or topic in mind, feel free to ask me and I'll do my best to help. I can also try to provide you with relevant information, definitions, and explanations.\n",
            "\n",
            "Additionally, if you need to search for something specific on Google, I can try to provide you with a summary of the search result or offer alternative sources of information that might be helpful.\n",
            "\n",
            "For example, if you want to know the latest news on a particular topic, I can try to summarize the latest information from reputable sources. Or if you're looking for a definition or explanation of a specific term, I can try to provide you with a clear and concise answer.\n",
            "\n",
            "So go ahead and ask me anything, and I'll do my best to help!\n",
            "User: who is the prime minister of india\n",
            "dict_values([{'messages': AIMessage(content='The current Prime Minister of India is Narendra Modi. He has been serving as the Prime Minister of India since May 26, 2014, and was re-elected for a second term in 2019.', response_metadata={'token_usage': {'completion_tokens': 43, 'prompt_tokens': 42, 'total_tokens': 85, 'completion_time': 0.057333333, 'prompt_time': 0.008322433, 'queue_time': 0.006207067, 'total_time': 0.065655766}, 'model_name': 'llama-3.1-8b-instant', 'system_fingerprint': 'fp_f66ccb39ec', 'finish_reason': 'stop', 'logprobs': None}, id='run-845995af-e899-4458-b899-9796b0a4e385-0', usage_metadata={'input_tokens': 42, 'output_tokens': 43, 'total_tokens': 85})}])\n",
            "content='The current Prime Minister of India is Narendra Modi. He has been serving as the Prime Minister of India since May 26, 2014, and was re-elected for a second term in 2019.' response_metadata={'token_usage': {'completion_tokens': 43, 'prompt_tokens': 42, 'total_tokens': 85, 'completion_time': 0.057333333, 'prompt_time': 0.008322433, 'queue_time': 0.006207067, 'total_time': 0.065655766}, 'model_name': 'llama-3.1-8b-instant', 'system_fingerprint': 'fp_f66ccb39ec', 'finish_reason': 'stop', 'logprobs': None} id='run-845995af-e899-4458-b899-9796b0a4e385-0' usage_metadata={'input_tokens': 42, 'output_tokens': 43, 'total_tokens': 85}\n",
            "Assistant: The current Prime Minister of India is Narendra Modi. He has been serving as the Prime Minister of India since May 26, 2014, and was re-elected for a second term in 2019.\n"
          ]
        }
      ]
    }
  ],
  "metadata": {
    "colab": {
      "name": "Welcome To Colab",
      "provenance": [],
      "include_colab_link": true
    },
    "kernelspec": {
      "display_name": "Python 3",
      "name": "python3"
    }
  },
  "nbformat": 4,
  "nbformat_minor": 0
}